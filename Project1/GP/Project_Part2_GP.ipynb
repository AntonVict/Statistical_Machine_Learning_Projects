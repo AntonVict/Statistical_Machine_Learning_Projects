{
 "cells": [
  {
   "cell_type": "markdown",
   "metadata": {},
   "source": [
    "## Gaussian Process Classification"
   ]
  },
  {
   "cell_type": "markdown",
   "metadata": {},
   "source": [
    "# Packages, sklearn"
   ]
  },
  {
   "cell_type": "code",
   "execution_count": 1,
   "metadata": {},
   "outputs": [],
   "source": [
    "import numpy as np\n",
    "import matplotlib.pyplot as plt\n",
    "from sklearn import datasets\n",
    "from sklearn.utils import shuffle\n",
    "from sklearn.gaussian_process import GaussianProcessClassifier\n",
    "from sklearn.gaussian_process.kernels import RBF, DotProduct, RationalQuadratic, Matern, ConstantKernel \n",
    "from sklearn.gaussian_process import GaussianProcessRegressor\n",
    "from sklearn.preprocessing import OneHotEncoder"
   ]
  },
  {
   "cell_type": "markdown",
   "metadata": {},
   "source": [
    "# Retriving and processing the data"
   ]
  },
  {
   "cell_type": "code",
   "execution_count": 11,
   "metadata": {},
   "outputs": [],
   "source": [
    "#choose a seed.\n",
    "seed = 2\n",
    "np.random.seed(seed)\n",
    "\n",
    "# Import some data to play with.\n",
    "digits = datasets.load_digits()\n",
    "\n",
    "X = digits.data\n",
    "y = np.array(digits.target, dtype = int)\n",
    "X,y = shuffle(X,y)\n",
    "N,d = X.shape\n",
    "\n",
    "N = np.int64(600)\n",
    "Ntrain = np.int64(500)\n",
    "Ntest = np.int64(100)\n",
    "\n",
    "Xtrain = X[0:Ntrain-1,:]\n",
    "ytrain = y[0:Ntrain-1]\n",
    "Xtest = X[Ntrain:N,:]\n",
    "ytest = y[Ntrain:N]"
   ]
  },
  {
   "cell_type": "markdown",
   "metadata": {},
   "source": [
    "# Part a - Gaussian Process classification (sklearn - several OvR classifiers)"
   ]
  },
  {
   "cell_type": "code",
   "execution_count": 19,
   "metadata": {},
   "outputs": [
    {
     "name": "stdout",
     "output_type": "stream",
     "text": [
      "Testing kernel: RBF\n"
     ]
    },
    {
     "name": "stderr",
     "output_type": "stream",
     "text": [
      "c:\\Users\\axeld\\AppData\\Local\\Programs\\Python\\Python312\\Lib\\site-packages\\sklearn\\gaussian_process\\kernels.py:452: ConvergenceWarning: The optimal value found for dimension 0 of parameter k1__constant_value is close to the specified upper bound 100.0. Increasing the bound and calling fit again may find a better value.\n",
      "  warnings.warn(\n",
      "c:\\Users\\axeld\\AppData\\Local\\Programs\\Python\\Python312\\Lib\\site-packages\\sklearn\\gaussian_process\\kernels.py:452: ConvergenceWarning: The optimal value found for dimension 0 of parameter k1__constant_value is close to the specified upper bound 100.0. Increasing the bound and calling fit again may find a better value.\n",
      "  warnings.warn(\n",
      "c:\\Users\\axeld\\AppData\\Local\\Programs\\Python\\Python312\\Lib\\site-packages\\sklearn\\gaussian_process\\kernels.py:452: ConvergenceWarning: The optimal value found for dimension 0 of parameter k1__constant_value is close to the specified upper bound 100.0. Increasing the bound and calling fit again may find a better value.\n",
      "  warnings.warn(\n",
      "c:\\Users\\axeld\\AppData\\Local\\Programs\\Python\\Python312\\Lib\\site-packages\\sklearn\\gaussian_process\\kernels.py:452: ConvergenceWarning: The optimal value found for dimension 0 of parameter k1__constant_value is close to the specified upper bound 100.0. Increasing the bound and calling fit again may find a better value.\n",
      "  warnings.warn(\n",
      "c:\\Users\\axeld\\AppData\\Local\\Programs\\Python\\Python312\\Lib\\site-packages\\sklearn\\gaussian_process\\kernels.py:452: ConvergenceWarning: The optimal value found for dimension 0 of parameter k1__constant_value is close to the specified upper bound 100.0. Increasing the bound and calling fit again may find a better value.\n",
      "  warnings.warn(\n",
      "c:\\Users\\axeld\\AppData\\Local\\Programs\\Python\\Python312\\Lib\\site-packages\\sklearn\\gaussian_process\\kernels.py:452: ConvergenceWarning: The optimal value found for dimension 0 of parameter k1__constant_value is close to the specified upper bound 100.0. Increasing the bound and calling fit again may find a better value.\n",
      "  warnings.warn(\n",
      "c:\\Users\\axeld\\AppData\\Local\\Programs\\Python\\Python312\\Lib\\site-packages\\sklearn\\gaussian_process\\kernels.py:452: ConvergenceWarning: The optimal value found for dimension 0 of parameter k1__constant_value is close to the specified upper bound 100.0. Increasing the bound and calling fit again may find a better value.\n",
      "  warnings.warn(\n",
      "c:\\Users\\axeld\\AppData\\Local\\Programs\\Python\\Python312\\Lib\\site-packages\\sklearn\\gaussian_process\\kernels.py:452: ConvergenceWarning: The optimal value found for dimension 0 of parameter k1__constant_value is close to the specified upper bound 100.0. Increasing the bound and calling fit again may find a better value.\n",
      "  warnings.warn(\n",
      "c:\\Users\\axeld\\AppData\\Local\\Programs\\Python\\Python312\\Lib\\site-packages\\sklearn\\gaussian_process\\kernels.py:452: ConvergenceWarning: The optimal value found for dimension 0 of parameter k1__constant_value is close to the specified upper bound 100.0. Increasing the bound and calling fit again may find a better value.\n",
      "  warnings.warn(\n",
      "c:\\Users\\axeld\\AppData\\Local\\Programs\\Python\\Python312\\Lib\\site-packages\\sklearn\\gaussian_process\\kernels.py:452: ConvergenceWarning: The optimal value found for dimension 0 of parameter k1__constant_value is close to the specified upper bound 100.0. Increasing the bound and calling fit again may find a better value.\n",
      "  warnings.warn(\n"
     ]
    },
    {
     "name": "stdout",
     "output_type": "stream",
     "text": [
      "Training error rate for RBF: 0.0\n",
      "Test error rate for RBF: 0.03\n",
      "Optimized kernel: CompoundKernel(4.61, 4.02, 4.61, 3.74, 4.61, 4.03, 4.61, 3.9, 4.61, 3.91, 4.61, 4.06, 4.61, 3.94, 4.61, 3.97, 4.61, 3.84, 4.61, 3.91) \n",
      "\n",
      "Testing kernel: DotProduct\n",
      "Training error rate for DotProduct: 0.0\n",
      "Test error rate for DotProduct: 0.08\n",
      "Optimized kernel: CompoundKernel(2.67, 3.79, 3.73, -1.3, -2.86, 3.89, 3.74, 3.57, 4, 3.99) \n",
      "\n",
      "Testing kernel: Matern\n"
     ]
    },
    {
     "name": "stderr",
     "output_type": "stream",
     "text": [
      "c:\\Users\\axeld\\AppData\\Local\\Programs\\Python\\Python312\\Lib\\site-packages\\sklearn\\gaussian_process\\kernels.py:442: ConvergenceWarning: The optimal value found for dimension 0 of parameter k1__constant_value is close to the specified lower bound 10.0. Decreasing the bound and calling fit again may find a better value.\n",
      "  warnings.warn(\n",
      "c:\\Users\\axeld\\AppData\\Local\\Programs\\Python\\Python312\\Lib\\site-packages\\sklearn\\gaussian_process\\kernels.py:442: ConvergenceWarning: The optimal value found for dimension 0 of parameter k1__constant_value is close to the specified lower bound 10.0. Decreasing the bound and calling fit again may find a better value.\n",
      "  warnings.warn(\n",
      "c:\\Users\\axeld\\AppData\\Local\\Programs\\Python\\Python312\\Lib\\site-packages\\sklearn\\gaussian_process\\kernels.py:442: ConvergenceWarning: The optimal value found for dimension 0 of parameter k1__constant_value is close to the specified lower bound 10.0. Decreasing the bound and calling fit again may find a better value.\n",
      "  warnings.warn(\n",
      "c:\\Users\\axeld\\AppData\\Local\\Programs\\Python\\Python312\\Lib\\site-packages\\sklearn\\gaussian_process\\kernels.py:442: ConvergenceWarning: The optimal value found for dimension 0 of parameter k1__constant_value is close to the specified lower bound 10.0. Decreasing the bound and calling fit again may find a better value.\n",
      "  warnings.warn(\n",
      "c:\\Users\\axeld\\AppData\\Local\\Programs\\Python\\Python312\\Lib\\site-packages\\sklearn\\gaussian_process\\kernels.py:442: ConvergenceWarning: The optimal value found for dimension 0 of parameter k1__constant_value is close to the specified lower bound 10.0. Decreasing the bound and calling fit again may find a better value.\n",
      "  warnings.warn(\n",
      "c:\\Users\\axeld\\AppData\\Local\\Programs\\Python\\Python312\\Lib\\site-packages\\sklearn\\gaussian_process\\kernels.py:442: ConvergenceWarning: The optimal value found for dimension 0 of parameter k1__constant_value is close to the specified lower bound 10.0. Decreasing the bound and calling fit again may find a better value.\n",
      "  warnings.warn(\n",
      "c:\\Users\\axeld\\AppData\\Local\\Programs\\Python\\Python312\\Lib\\site-packages\\sklearn\\gaussian_process\\kernels.py:442: ConvergenceWarning: The optimal value found for dimension 0 of parameter k1__constant_value is close to the specified lower bound 10.0. Decreasing the bound and calling fit again may find a better value.\n",
      "  warnings.warn(\n",
      "c:\\Users\\axeld\\AppData\\Local\\Programs\\Python\\Python312\\Lib\\site-packages\\sklearn\\gaussian_process\\kernels.py:442: ConvergenceWarning: The optimal value found for dimension 0 of parameter k1__constant_value is close to the specified lower bound 10.0. Decreasing the bound and calling fit again may find a better value.\n",
      "  warnings.warn(\n",
      "c:\\Users\\axeld\\AppData\\Local\\Programs\\Python\\Python312\\Lib\\site-packages\\sklearn\\gaussian_process\\kernels.py:442: ConvergenceWarning: The optimal value found for dimension 0 of parameter k1__constant_value is close to the specified lower bound 10.0. Decreasing the bound and calling fit again may find a better value.\n",
      "  warnings.warn(\n",
      "c:\\Users\\axeld\\AppData\\Local\\Programs\\Python\\Python312\\Lib\\site-packages\\sklearn\\gaussian_process\\kernels.py:442: ConvergenceWarning: The optimal value found for dimension 0 of parameter k1__constant_value is close to the specified lower bound 10.0. Decreasing the bound and calling fit again may find a better value.\n",
      "  warnings.warn(\n"
     ]
    },
    {
     "name": "stdout",
     "output_type": "stream",
     "text": [
      "Training error rate for Matern: 0.0\n",
      "Test error rate for Matern: 0.02\n",
      "Optimized kernel: CompoundKernel(2.3, 0.000284, 2.3, 0.000284, 2.3, 0.000284, 2.3, 0.000284, 2.3, 0.000284, 2.3, 0.000284, 2.3, 0.000284, 2.3, 0.000284, 2.3, 0.000284, 2.3, 0.000284) \n",
      "\n",
      "Testing kernel: RationalQuadratic\n"
     ]
    },
    {
     "name": "stderr",
     "output_type": "stream",
     "text": [
      "c:\\Users\\axeld\\AppData\\Local\\Programs\\Python\\Python312\\Lib\\site-packages\\sklearn\\gaussian_process\\kernels.py:452: ConvergenceWarning: The optimal value found for dimension 0 of parameter alpha is close to the specified upper bound 100000.0. Increasing the bound and calling fit again may find a better value.\n",
      "  warnings.warn(\n",
      "c:\\Users\\axeld\\AppData\\Local\\Programs\\Python\\Python312\\Lib\\site-packages\\sklearn\\gaussian_process\\kernels.py:452: ConvergenceWarning: The optimal value found for dimension 0 of parameter alpha is close to the specified upper bound 100000.0. Increasing the bound and calling fit again may find a better value.\n",
      "  warnings.warn(\n",
      "c:\\Users\\axeld\\AppData\\Local\\Programs\\Python\\Python312\\Lib\\site-packages\\sklearn\\gaussian_process\\kernels.py:452: ConvergenceWarning: The optimal value found for dimension 0 of parameter alpha is close to the specified upper bound 100000.0. Increasing the bound and calling fit again may find a better value.\n",
      "  warnings.warn(\n",
      "c:\\Users\\axeld\\AppData\\Local\\Programs\\Python\\Python312\\Lib\\site-packages\\sklearn\\gaussian_process\\kernels.py:452: ConvergenceWarning: The optimal value found for dimension 0 of parameter alpha is close to the specified upper bound 100000.0. Increasing the bound and calling fit again may find a better value.\n",
      "  warnings.warn(\n",
      "c:\\Users\\axeld\\AppData\\Local\\Programs\\Python\\Python312\\Lib\\site-packages\\sklearn\\gaussian_process\\kernels.py:452: ConvergenceWarning: The optimal value found for dimension 0 of parameter alpha is close to the specified upper bound 100000.0. Increasing the bound and calling fit again may find a better value.\n",
      "  warnings.warn(\n",
      "c:\\Users\\axeld\\AppData\\Local\\Programs\\Python\\Python312\\Lib\\site-packages\\sklearn\\gaussian_process\\kernels.py:452: ConvergenceWarning: The optimal value found for dimension 0 of parameter alpha is close to the specified upper bound 100000.0. Increasing the bound and calling fit again may find a better value.\n",
      "  warnings.warn(\n",
      "c:\\Users\\axeld\\AppData\\Local\\Programs\\Python\\Python312\\Lib\\site-packages\\sklearn\\gaussian_process\\kernels.py:452: ConvergenceWarning: The optimal value found for dimension 0 of parameter alpha is close to the specified upper bound 100000.0. Increasing the bound and calling fit again may find a better value.\n",
      "  warnings.warn(\n",
      "c:\\Users\\axeld\\AppData\\Local\\Programs\\Python\\Python312\\Lib\\site-packages\\sklearn\\gaussian_process\\kernels.py:452: ConvergenceWarning: The optimal value found for dimension 0 of parameter alpha is close to the specified upper bound 100000.0. Increasing the bound and calling fit again may find a better value.\n",
      "  warnings.warn(\n",
      "c:\\Users\\axeld\\AppData\\Local\\Programs\\Python\\Python312\\Lib\\site-packages\\sklearn\\gaussian_process\\kernels.py:452: ConvergenceWarning: The optimal value found for dimension 0 of parameter alpha is close to the specified upper bound 100000.0. Increasing the bound and calling fit again may find a better value.\n",
      "  warnings.warn(\n"
     ]
    },
    {
     "name": "stdout",
     "output_type": "stream",
     "text": [
      "Training error rate for RationalQuadratic: 0.036072144288577156\n",
      "Test error rate for RationalQuadratic: 0.06\n",
      "Optimized kernel: CompoundKernel(11.5, 3.6, 11.5, 3.51, 11.5, 3.58, 11.5, 3.57, 11.5, 3.58, 11.5, 3.58, 11.5, 3.59, 11.5, 3.59, 0.726, 3.54, 11.5, 3.65) \n",
      "\n"
     ]
    }
   ],
   "source": [
    "kernels = { # Have to pre-define bounds otherwise, sklearn built in optimzier drives the variance to zero.\n",
    "    \"RBF\": ConstantKernel (1.0, (1e-2, 1e2)) * RBF(length_scale=10.0, length_scale_bounds=(1e-2, 1e2)),\n",
    "    \"DotProduct\": DotProduct(sigma_0=10.0),\n",
    "    \"Matern\": ConstantKernel(1.0, (1e1, 1e3)) * Matern(length_scale=1.0, nu=1),\n",
    "    \"RationalQuadratic\": RationalQuadratic(),\n",
    "}\n",
    "\n",
    "for kernel_name, kernel in kernels.items():\n",
    "    print(f\"Testing kernel: {kernel_name}\")\n",
    "    gpc = GaussianProcessClassifier(kernel=kernel)  # GaussianProcessClassifier also optimaizes the hyper parameters.\n",
    "    gpc.fit(Xtrain, ytrain)\n",
    "    \n",
    "    # Predictions.\n",
    "    yp_train = gpc.predict(Xtrain)\n",
    "    train_error_rate = np.mean(np.not_equal(yp_train, ytrain))\n",
    "    yp_test = gpc.predict(Xtest)\n",
    "    test_error_rate = np.mean(np.not_equal(yp_test, ytest))\n",
    "    \n",
    "    # Print results.\n",
    "    print(f\"Training error rate for {kernel_name}: {train_error_rate}\")\n",
    "    print(f\"Test error rate for {kernel_name}: {test_error_rate}\")\n",
    "    print(\"Optimized kernel:\", gpc.kernel_, \"\\n\")"
   ]
  },
  {
   "cell_type": "markdown",
   "metadata": {},
   "source": [
    "# Part b - Classification using Gaussian Process regressor"
   ]
  },
  {
   "cell_type": "code",
   "execution_count": 18,
   "metadata": {},
   "outputs": [
    {
     "name": "stdout",
     "output_type": "stream",
     "text": [
      "Evaluating kernel: RBF\n",
      "Training error rate for RBF: 0.0\n",
      "Test error rate for RBF: 0.01\n",
      "Evaluating kernel: DotProduct\n"
     ]
    },
    {
     "name": "stderr",
     "output_type": "stream",
     "text": [
      "c:\\Users\\axeld\\AppData\\Local\\Programs\\Python\\Python312\\Lib\\site-packages\\sklearn\\gaussian_process\\kernels.py:442: ConvergenceWarning: The optimal value found for dimension 0 of parameter sigma_0 is close to the specified lower bound 1e-05. Decreasing the bound and calling fit again may find a better value.\n",
      "  warnings.warn(\n"
     ]
    },
    {
     "name": "stdout",
     "output_type": "stream",
     "text": [
      "Training error rate for DotProduct: 0.04609218436873747\n",
      "Test error rate for DotProduct: 0.12\n",
      "Evaluating kernel: Matern\n",
      "Training error rate for Matern: 0.0\n",
      "Test error rate for Matern: 0.01\n",
      "Evaluating kernel: RationalQuadratic\n",
      "Training error rate for RationalQuadratic: 0.0\n",
      "Test error rate for RationalQuadratic: 0.02\n"
     ]
    }
   ],
   "source": [
    "kernels = { # Works better not predefining bounds.\n",
    "    \"RBF\": RBF(),\n",
    "    \"DotProduct\": DotProduct(),\n",
    "    \"Matern\": Matern(),\n",
    "    \"RationalQuadratic\": RationalQuadratic()\n",
    "}\n",
    "\n",
    "# One-hot encode the labels.\n",
    "onehot_encoder = OneHotEncoder(sparse_output=False)\n",
    "y_onehot_train = onehot_encoder.fit_transform(ytrain.reshape(-1, 1))\n",
    "y_onehot_test = onehot_encoder.transform(ytest.reshape(-1, 1))\n",
    "\n",
    "for kernel_name, kernel in kernels.items():\n",
    "    print(f\"Evaluating kernel: {kernel_name}\")\n",
    "    \n",
    "    # Train one GP regressor for each output dimension 0-9.\n",
    "    gprs = [GaussianProcessRegressor(kernel=kernel, random_state=seed).fit(Xtrain, y_onehot_train[:, i]) for i in range(y_onehot_train.shape[1])]\n",
    "    \n",
    "    yp_train_one_hot = np.column_stack([gpr.predict(Xtrain) for gpr in gprs])\n",
    "    yp_train = np.argmax(yp_train_one_hot, axis=1)\n",
    "    yp_test_one_hot = np.column_stack([gpr.predict(Xtest) for gpr in gprs])\n",
    "    yp_test = np.argmax(yp_test_one_hot, axis=1)\n",
    "\n",
    "    # Predictions.\n",
    "    train_error_rate = np.mean(np.not_equal(yp_train, ytrain))\n",
    "    test_error_rate = np.mean(np.not_equal(yp_test, ytest))\n",
    "    \n",
    "    print(f\"Training error rate for {kernel_name}: {train_error_rate}\")\n",
    "    print(f\"Test error rate for {kernel_name}: {test_error_rate}\")\n"
   ]
  }
 ],
 "metadata": {
  "kernelspec": {
   "display_name": "Python 3",
   "language": "python",
   "name": "python3"
  },
  "language_info": {
   "codemirror_mode": {
    "name": "ipython",
    "version": 3
   },
   "file_extension": ".py",
   "mimetype": "text/x-python",
   "name": "python",
   "nbconvert_exporter": "python",
   "pygments_lexer": "ipython3",
   "version": "3.12.5"
  }
 },
 "nbformat": 4,
 "nbformat_minor": 2
}
