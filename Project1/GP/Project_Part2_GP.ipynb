{
 "cells": [
  {
   "cell_type": "markdown",
   "metadata": {},
   "source": [
    "## Gaussian Process Classification"
   ]
  },
  {
   "cell_type": "markdown",
   "metadata": {},
   "source": [
    "# Packages, sklearn"
   ]
  },
  {
   "cell_type": "code",
   "execution_count": 1,
   "metadata": {},
   "outputs": [],
   "source": [
    "import numpy as np\n",
    "import matplotlib.pyplot as plt\n",
    "from sklearn import datasets\n",
    "from sklearn.utils import shuffle\n",
    "from sklearn.gaussian_process import GaussianProcessClassifier\n",
    "from sklearn.gaussian_process.kernels import RBF, DotProduct, RationalQuadratic, Matern\n",
    "from sklearn.gaussian_process import GaussianProcessRegressor\n",
    "from sklearn.preprocessing import OneHotEncoder"
   ]
  },
  {
   "cell_type": "markdown",
   "metadata": {},
   "source": [
    "# Retriving and processing the data"
   ]
  },
  {
   "cell_type": "code",
   "execution_count": 2,
   "metadata": {},
   "outputs": [],
   "source": [
    "#choose a seed.\n",
    "seed = 1\n",
    "np.random.seed(seed)\n",
    "\n",
    "# Import some data to play with.\n",
    "digits = datasets.load_digits()\n",
    "\n",
    "X = digits.data\n",
    "y = np.array(digits.target, dtype = int)\n",
    "X,y = shuffle(X,y)\n",
    "N,d = X.shape\n",
    "\n",
    "N = np.int64(600)\n",
    "Ntrain = np.int64(500)\n",
    "Ntest = np.int64(100)\n",
    "\n",
    "Xtrain = X[0:Ntrain-1,:]\n",
    "ytrain = y[0:Ntrain-1]\n",
    "Xtest = X[Ntrain:N,:]\n",
    "ytest = y[Ntrain:N]\n",
    "\n",
    "kernels = {\n",
    "    \"RBF\": 1.0 * RBF(length_scale=1.0),  # Isotropic RBF Kernel\n",
    "    \"DotProduct\": DotProduct(sigma_0=10.0),\n",
    "    \"RationalQuadratic\": 1.0 * RationalQuadratic(length_scale=1.0, alpha=1.0),\n",
    "    \"Matern\": 1.0 * Matern(length_scale=1.0, nu=10),  # Nu can be 0.5, 1.5, or 2.5\n",
    "    \"Combined (RBF + DotProduct)\": 1.0 * RBF(length_scale=1.0) + DotProduct(sigma_0=1.0),\n",
    "}"
   ]
  },
  {
   "cell_type": "markdown",
   "metadata": {},
   "source": [
    "# Part a - Gaussian Process classification (sklearn - several OvR classifiers)"
   ]
  },
  {
   "cell_type": "code",
   "execution_count": 4,
   "metadata": {},
   "outputs": [
    {
     "name": "stdout",
     "output_type": "stream",
     "text": [
      "Testing kernel: RBF\n",
      "Training error rate for RBF: 0.0\n",
      "Test error rate for RBF: 0.87\n",
      "\n",
      "Testing kernel: DotProduct\n",
      "Training error rate for DotProduct: 0.0\n",
      "Test error rate for DotProduct: 0.14\n",
      "\n",
      "Testing kernel: RationalQuadratic\n",
      "Training error rate for RationalQuadratic: 0.0\n",
      "Test error rate for RationalQuadratic: 0.12\n",
      "\n",
      "Testing kernel: Matern\n",
      "Training error rate for Matern: 0.0\n",
      "Test error rate for Matern: 0.79\n",
      "\n",
      "Testing kernel: Combined (RBF + DotProduct)\n",
      "Training error rate for Combined (RBF + DotProduct): 0.0\n",
      "Test error rate for Combined (RBF + DotProduct): 0.13\n",
      "\n"
     ]
    }
   ],
   "source": [
    "for kernel_name, kernel in kernels.items():\n",
    "    print(f\"Testing kernel: {kernel_name}\")\n",
    "    gpc = GaussianProcessClassifier(kernel=kernel, optimizer=None)  # Disable hyperparameter optimization for consistency.\n",
    "    gpc.fit(Xtrain, ytrain)\n",
    "    \n",
    "    # Training predictions.\n",
    "    yp_train = gpc.predict(Xtrain)\n",
    "    train_error_rate = np.mean(np.not_equal(yp_train, ytrain))\n",
    "    \n",
    "    # Test predictions.\n",
    "    yp_test = gpc.predict(Xtest)\n",
    "    test_error_rate = np.mean(np.not_equal(yp_test, ytest))\n",
    "    \n",
    "    # Print results.\n",
    "    print(f\"Training error rate for {kernel_name}: {train_error_rate}\")\n",
    "    print(f\"Test error rate for {kernel_name}: {test_error_rate}\\n\")"
   ]
  },
  {
   "cell_type": "markdown",
   "metadata": {},
   "source": [
    "# Part b - Classification using Gaussian Process regressor"
   ]
  },
  {
   "cell_type": "code",
   "execution_count": 22,
   "metadata": {},
   "outputs": [
    {
     "name": "stdout",
     "output_type": "stream",
     "text": [
      "Training error rate\n",
      "0.899012453765246\n"
     ]
    }
   ],
   "source": [
    "# Recode the labels as 1-hot representation. \n",
    "encoder = OneHotEncoder(sparse_output=False)  # sparse=False returns a dense array.\n",
    "ytrain_reshaped = ytrain.reshape(-1, 1)\n",
    "#print(ytrain_reshaped.shape) # Makes it into a 2D array.\n",
    "\n",
    "y_train_one_hot = encoder.fit_transform(ytrain_reshaped)\n",
    "#kernel = 1.0 * RBF([1.0]) # isotropic kernel\n",
    "#kernel = Matern(length_scale=1, nu=2)\n",
    "kernel = DotProduct(sigma_0=10.0)\n",
    "#gpr_rbf = GaussianProcessRegressor(kernel=kernel).fit(Xtrain, y_train_one_hot)\n",
    "\n",
    "gpr_rbf = GaussianProcessRegressor(kernel=kernel, optimizer=None)\n",
    "gpr_rbf.fit(Xtrain, y_train_one_hot)\n",
    "\n",
    "yp_train_one_hot = gpr_rbf.predict(Xtrain)\n",
    "yp_train = encoder.inverse_transform(yp_train_one_hot)\n",
    "\n",
    "# test_array = np.array([1, 1, 1, 1, 1, 1, 2, 1, 1, 1]).reshape(1, -1)\n",
    "# print(test_array.shape)\n",
    "# test = encoder.inverse_transform(test_array)\n",
    "# print(test)\n",
    "\n",
    "train_error_rate = np.mean(np.not_equal(yp_train, ytrain))\n",
    "print('Training error rate')\n",
    "print(train_error_rate)\n",
    "\n",
    "# yp_test_one_hot = gpr_rbf.predict(Xtest)\n",
    "# yp_test = encoder.inverse_transform(yp_test_one_hot)\n",
    "# test_error_rate = np.mean(np.not_equal(yp_test, ytest))\n",
    "# print('Test error rate')\n",
    "# print(test_error_rate)"
   ]
  }
 ],
 "metadata": {
  "kernelspec": {
   "display_name": "Python 3",
   "language": "python",
   "name": "python3"
  },
  "language_info": {
   "codemirror_mode": {
    "name": "ipython",
    "version": 3
   },
   "file_extension": ".py",
   "mimetype": "text/x-python",
   "name": "python",
   "nbconvert_exporter": "python",
   "pygments_lexer": "ipython3",
   "version": "3.12.5"
  }
 },
 "nbformat": 4,
 "nbformat_minor": 2
}
